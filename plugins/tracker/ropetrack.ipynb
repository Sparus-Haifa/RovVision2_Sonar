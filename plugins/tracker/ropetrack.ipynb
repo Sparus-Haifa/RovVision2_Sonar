{
 "cells": [
  {
   "cell_type": "code",
   "execution_count": null,
   "metadata": {},
   "outputs": [],
   "source": [
    "%matplotlib notebook\n",
    "import numpy as np\n",
    "from matplotlib import pyplot as plt\n",
    "import cv2"
   ]
  },
  {
   "cell_type": "code",
   "execution_count": null,
   "metadata": {},
   "outputs": [],
   "source": [
    "path='/home/ori/projects/data2/190227-121527/'\n",
    "#imname='r00007935.pgm'\n",
    "#imname='r00003575.pgm'\n",
    "imname='r00003480.pgm'\n",
    "#imname='r00009175.pgm'\n",
    "imname='l00006440.pgm'\n",
    "imname='r00006440.pgm'\n",
    "fname=path+imname\n",
    "fname='/home/ori/projects/RovVision2/plugins/tracker/iml.png'"
   ]
  },
  {
   "cell_type": "code",
   "execution_count": null,
   "metadata": {},
   "outputs": [],
   "source": [
    "im = cv2.imread(fname)[::2,::2,1]\n",
    "plt.figure()\n",
    "plt.imshow(im,cmap='gray')"
   ]
  },
  {
   "cell_type": "code",
   "execution_count": null,
   "metadata": {
    "scrolled": false
   },
   "outputs": [],
   "source": [
    "slot=[100,200]\n",
    "im1=im[slot[0]:slot[1],:].sum(axis=0).flatten().astype(float)\n",
    "plt.figure()\n",
    "#plt.plot(np.convolve(im1,np.concatenate((np.ones(8),-np.ones(8)))))\n",
    "im2=im1#np.convolve(im1,np.ones(10),'valid')\n",
    "\n",
    "plt.plot(im2)\n"
   ]
  },
  {
   "cell_type": "code",
   "execution_count": null,
   "metadata": {},
   "outputs": [],
   "source": [
    "yy=np.fft.fft(im2)\n",
    "y=np.log10(np.abs(yy))\n",
    "x=np.fft.fftfreq(len(im2))\n",
    "plt.figure()\n",
    "#plt.plot(x,y)\n",
    "yy[5:-5]=0\n",
    "im2r=np.fft.ifft(yy)\n",
    "plt.plot(im2r)"
   ]
  },
  {
   "cell_type": "code",
   "execution_count": null,
   "metadata": {},
   "outputs": [],
   "source": [
    "from scipy.signal import argrelextrema\n",
    "argrelextrema(im2r, np.greater)[0]"
   ]
  },
  {
   "cell_type": "code",
   "execution_count": null,
   "metadata": {},
   "outputs": [],
   "source": [
    "argrelextrema(im2r, np.less)"
   ]
  },
  {
   "cell_type": "code",
   "execution_count": null,
   "metadata": {},
   "outputs": [],
   "source": [
    "def detect_rope(prev_col,extrema,start_row,nrows,im):\n",
    "    imt=im[start_row:start_row+nrows,:].sum(axis=0).flatten().astype(float)\n",
    "    #plt.plot(np.convolve(im1,np.concatenate((np.ones(8),-np.ones(8)))))\n",
    "    #conv_val=10\n",
    "    #im2=np.convolve(im1,np.ones(conv_val),'valid')\n",
    "    yy=np.fft.fft(imt)\n",
    "    yy[5:-5]=0\n",
    "    im2r=np.fft.ifft(yy)\n",
    "    \n",
    "    maxima=argrelextrema(im2r, np.greater)[0]\n",
    "    minima=argrelextrema(im2r, np.less)[0]\n",
    "    if extrema is None:\n",
    "        totest=np.concatenate((maxima,minima))\n",
    "    elif extrema == 'max':\n",
    "        totest=maxima\n",
    "    else:\n",
    "        totest=minima\n",
    "    if len(totest)==0:\n",
    "        return None\n",
    "    new_col=totest[np.argmin(np.abs(totest-prev_col))]\n",
    "    res='min'\n",
    "    if new_col in maxima:\n",
    "        res='max'\n",
    "    return res,new_col\n",
    "        "
   ]
  },
  {
   "cell_type": "code",
   "execution_count": null,
   "metadata": {},
   "outputs": [],
   "source": [
    "\n",
    "detect_rope(329,None,100,100,im)"
   ]
  },
  {
   "cell_type": "code",
   "execution_count": null,
   "metadata": {},
   "outputs": [],
   "source": [
    "thick=200\n",
    "extrema,col=detect_rope(100,None,0,thick,im)\n",
    "cols=[]\n",
    "for i in range(im.shape[0]-thick):\n",
    "    extrema,col=detect_rope(col,extrema,i,100,im)\n",
    "    cols.append((col,i+thick//2))\n",
    "cols=np.array(cols)"
   ]
  },
  {
   "cell_type": "code",
   "execution_count": null,
   "metadata": {},
   "outputs": [],
   "source": [
    "plt.figure()\n",
    "plt.imshow(im,cmap='gray')\n",
    "plt.plot(cols[:,0],cols[:,1],'-r')"
   ]
  },
  {
   "cell_type": "code",
   "execution_count": null,
   "metadata": {},
   "outputs": [],
   "source": []
  }
 ],
 "metadata": {
  "kernelspec": {
   "display_name": "Python 3",
   "language": "python",
   "name": "python3"
  },
  "language_info": {
   "codemirror_mode": {
    "name": "ipython",
    "version": 3
   },
   "file_extension": ".py",
   "mimetype": "text/x-python",
   "name": "python",
   "nbconvert_exporter": "python",
   "pygments_lexer": "ipython3",
   "version": "3.7.3"
  }
 },
 "nbformat": 4,
 "nbformat_minor": 2
}
