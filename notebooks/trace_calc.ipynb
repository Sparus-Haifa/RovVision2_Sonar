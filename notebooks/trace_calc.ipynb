{
 "cells": [
  {
   "cell_type": "code",
   "execution_count": null,
   "metadata": {},
   "outputs": [],
   "source": [
    "%matplotlib\n",
    "import numpy as np\n",
    "import matplotlib.pyplot as plt\n",
    "import pickle\n",
    "import cv2\n",
    "np.set_printoptions(formatter={'float': '{: 0.7f}'.format})"
   ]
  },
  {
   "cell_type": "code",
   "execution_count": null,
   "metadata": {},
   "outputs": [],
   "source": [
    "data=[]\n",
    "#name='../../data/trace_data_fw_and_bw.pkl'\n",
    "#name='../../data/trace_data_yaw_turn.pkl'\n",
    "name='../../data/trace_data_u_shape.pkl'\n",
    "#name='../../data/trace_data_only_pitch.pkl'\n",
    "with open(name,'rb') as fd:   \n",
    "    while 1:\n",
    "        try:\n",
    "            data.append(pickle.load(fd))\n",
    "        except EOFError:\n",
    "            break"
   ]
  },
  {
   "cell_type": "code",
   "execution_count": null,
   "metadata": {},
   "outputs": [],
   "source": [
    "data[0]"
   ]
  },
  {
   "cell_type": "code",
   "execution_count": null,
   "metadata": {},
   "outputs": [],
   "source": [
    "def roty(a):\n",
    "    R_y = \\\n",
    "        np.array([\\\n",
    "            [np.cos(a),    0,      np.sin(a)  ],\n",
    "            [0,                     1,      0         ],\n",
    "            [-np.sin(a),   0,      np.cos(a)  ]\n",
    "                    ])\n",
    "    return R_y\n",
    "def rotx(a):\n",
    "        ca = np.cos(a)\n",
    "        sa = np.sin(a)\n",
    "\n",
    "        R_x = \\\n",
    "            np.array([  [   1,  0,  0   ],\n",
    "                        [   0,  ca, -sa ],\n",
    "                        [   0,  sa, ca  ],\n",
    "                        ])\n",
    "        return R_x\n",
    "\n",
    "def rotz(a):\n",
    "    ch = np.cos(a)\n",
    "    sh = np.sin(a)\n",
    "    Rz = np.array([\n",
    "        [   ch,     -sh,    0],\n",
    "        [   sh,     ch,     0],\n",
    "        [   0,      0,      1]])\n",
    "    return Rz\n",
    "\n",
    "\n",
    "def get_rot(yaw,pitch,roll):\n",
    "    return rotz(np.radians(yaw)) @ roty(np.radians(pitch)) @ rotx(np.radians(roll))\n",
    "\n",
    "print(get_rot(0,45,0))"
   ]
  },
  {
   "cell_type": "code",
   "execution_count": null,
   "metadata": {},
   "outputs": [],
   "source": [
    "__TR = np.array([\\\n",
    "        [   1.0,  0,  0,  0,  ],\n",
    "        [   0,  1,  0,  0,  ],\n",
    "        [   0,  0,  1,  0,  ]])\n"
   ]
  },
  {
   "cell_type": "code",
   "execution_count": null,
   "metadata": {},
   "outputs": [],
   "source": [
    "\n",
    "def triangulate(M,bl,xl,yl,xr,yr):\n",
    "    p1 = np.array([xl,yl],dtype=float)\n",
    "    p2 = np.array([xr,yr],dtype=float)\n",
    "    T=np.array([[bl,0,0]]).T \n",
    "    prjl=M @ __TR\n",
    "    prjr=__TR.copy()\n",
    "    prjr[0,3]=bl\n",
    "    prjr=M @ prjr\n",
    "    p=cv2.triangulatePoints(prjl,prjr,p1,p2)\n",
    "    p=p/p[3,0]\n",
    "    x,y,z = p.flatten()[:3]\n",
    "    ### convert from opencv to our coordinates which is z-up x-forward y-left\n",
    "    #   opencv coordinate system is described here:  \n",
    "    #   http://homepages.inf.ed.ac.uk/rbf/CVonline/LOCAL_COPIES/OWENS/LECT9/node2.html  \n",
    "    return np.array([[-z,-y,x]]).T\n"
   ]
  },
  {
   "cell_type": "code",
   "execution_count": null,
   "metadata": {},
   "outputs": [],
   "source": [
    "BL=0.122\n",
    "W,H=1280,1024\n",
    "ypr=(0,90,0)\n",
    "f=W/2\n",
    "sz=(W,H)\n",
    "M = np.array([\\\n",
    "        [   f, 0,  sz[0]/2   ],\n",
    "        [   0,  f, sz[1]/2   ],\n",
    "        [   0,  0,  1,  ]])\n",
    "\n",
    "P=triangulate(M,BL,W/2+0,H/2+0,W/2+0.2,H/2+0)\n",
    "p1=get_rot(*ypr) @ P"
   ]
  },
  {
   "cell_type": "code",
   "execution_count": null,
   "metadata": {},
   "outputs": [],
   "source": [
    "p1"
   ]
  },
  {
   "cell_type": "code",
   "execution_count": null,
   "metadata": {},
   "outputs": [],
   "source": [
    "f=W/2\n",
    "sz=(W,H)\n",
    "M = np.array([\\\n",
    "            [   f, 0,  sz[0]/2   ],\n",
    "            [   0,  f, sz[1]/2   ],\n",
    "            [   0,  0,  1,  ]])\n"
   ]
  },
  {
   "cell_type": "code",
   "execution_count": null,
   "metadata": {
    "scrolled": true
   },
   "outputs": [],
   "source": [
    "zrange=p1[2,0]\n",
    "pix1=np.array([[W/2,H/2,1]]).T\n",
    "loc1=np.linalg.inv(M) @ pix1 * zrange\n",
    "loc1[2,0]"
   ]
  },
  {
   "cell_type": "code",
   "execution_count": null,
   "metadata": {},
   "outputs": [],
   "source": [
    "new_ypr = (90,0,0)\n",
    "ref_ypr = (0,0,0)\n",
    "R=get_rot(*new_ypr) @ get_rot(*ref_ypr)"
   ]
  },
  {
   "cell_type": "code",
   "execution_count": null,
   "metadata": {},
   "outputs": [],
   "source": [
    "pix2=np.array([[W/2+20,H/2,1]]).T\n",
    "T=np.linalg.inv(M) @ pix2 * zrange - R@loc1\n",
    "DC=-R@T #delta camera\n",
    "DC"
   ]
  },
  {
   "cell_type": "code",
   "execution_count": null,
   "metadata": {},
   "outputs": [],
   "source": [
    "#opencv to water\n",
    "RO=get_rot(-90,0,-90)\n",
    "class Tracer(object):\n",
    "    def __init__(self, M):\n",
    "        self.current_loc=np.array([0,0.])\n",
    "        self.last_rel_loc=np.array([0,0.])\n",
    "        self.M=M\n",
    "        self.ref_pix=None\n",
    "    def feed(self,zrange,new_ref,ypr,x,y):\n",
    "        if new_ref or self.ref_pix is None:\n",
    "            self.ref_ypr=ypr\n",
    "            self.current_loc+=self.last_rel_loc\n",
    "            self.ref_pix=np.array([[x,y,1.0]]).T\n",
    "        MI=np.linalg.inv(self.M)\n",
    "        loc1=get_rot(*self.ref_ypr).T @ RO @ MI @ self.ref_pix * zrange\n",
    "        pix2=np.array([[x,y,1.0]]).T\n",
    "        loc2=get_rot(*ypr).T @ RO @ MI @ pix2 * zrange\n",
    "        #print(loc2)\n",
    "        #T=np.linalg.inv(M) @ pix2 * zrange - get_rot(*ypr)@loc1\n",
    "        #DC=(-R@T).flatten()\n",
    "        DC=(loc2-loc1).flatten()\n",
    "        self.last_rel_loc=DC[:2]\n",
    "        return self.current_loc+DC[:2]\n"
   ]
  },
  {
   "cell_type": "code",
   "execution_count": null,
   "metadata": {},
   "outputs": [],
   "source": [
    "tr=Tracer(M)\n",
    "for i in range(3):\n",
    "    print(i,tr.feed(10.0,False,(0,-45.0+0,0),W/2.-i*0,H/2.0-i*1))"
   ]
  },
  {
   "cell_type": "code",
   "execution_count": null,
   "metadata": {},
   "outputs": [],
   "source": [
    "class StereoTracer(object):\n",
    "    def __init__(self,M,BL,start_ypr):\n",
    "        self.tracer=Tracer(M,start_ypr)\n",
    "        self.BL=BL\n",
    "        self.M=M\n",
    "    def feed(self,new_ref,ypr,xl,yl,xr,yr):\n",
    "        P=triangulate(self.M,self.BL,xl,yl,xr,yr)\n",
    "        P1=get_rot(*ypr) @ P\n",
    "        zrange=P1[2,0]\n",
    "        #print('---',zrange)\n",
    "        if xr-xl<0.1:\n",
    "            #print('not good for stereo',xr-xl)\n",
    "            return None\n",
    "        return self.tracer.feed(zrange,new_ref,ypr,xl,yl)"
   ]
  },
  {
   "cell_type": "code",
   "execution_count": null,
   "metadata": {},
   "outputs": [],
   "source": [
    "get_ypr = lambda i:(data[i]['yaw'],data[i]['pitch'],data[i]['roll'])\n",
    "data[0]"
   ]
  },
  {
   "cell_type": "code",
   "execution_count": null,
   "metadata": {},
   "outputs": [],
   "source": [
    "data[173]"
   ]
  },
  {
   "cell_type": "code",
   "execution_count": null,
   "metadata": {},
   "outputs": [],
   "source": [
    "tr=Tracer(M)\n",
    "last_ref_cnt=-1\n",
    "ps=[]\n",
    "xs=[]\n",
    "ys=[]\n",
    "locs=[]\n",
    "for i in range(0,len(data)):\n",
    "    d=data[i]\n",
    "    if 'sonar' in d:\n",
    "        new_ref=d['ref_cnt']!=last_ref_cnt\n",
    "        last_ref_cnt=d['ref_cnt']\n",
    "        pl=d['pt_l']\n",
    "        xs+=[pl[0]]\n",
    "        ys+=[pl[1]]\n",
    "        ps+=[d['pitch']]\n",
    "        ret=tr.feed(d['sonar'][0]/100,new_ref,get_ypr(i),pl[0],pl[1])\n",
    "        locs.append(ret)\n",
    "        #print(i,d['sonar'][0],d['pitch'],)\n",
    "locs=np.array(locs)"
   ]
  },
  {
   "cell_type": "code",
   "execution_count": null,
   "metadata": {},
   "outputs": [],
   "source": [
    "plt.figure()\n",
    "#plt.plot(ps)\n",
    "#plt.plot(xs)\n",
    "#plt.plot()\n",
    "#plt.plot(locs[:,1])\n",
    "plt.plot(locs[:,0],locs[:,1])\n",
    "plt.axis('equal')\n",
    "#plt.legend(['ps','xs','ys'])"
   ]
  },
  {
   "cell_type": "code",
   "execution_count": null,
   "metadata": {},
   "outputs": [],
   "source": [
    "st=StereoTracer(M,BL,get_ypr(100))\n",
    "last_ref_cnt=-1\n",
    "for i in range(100,120):\n",
    "    d=data[i]\n",
    "    new_ref=d['ref_cnt']!=last_ref_cnt\n",
    "    last_ref_cnt=d['ref_cnt']\n",
    "    pl,pr=d['pt_l'],d['pt_r']\n",
    "    #print(i,pr[0]-pl[0],st.feed(new_ref,get_ypr(i),pl[0],pl[1],pr[0],pr[1]))"
   ]
  },
  {
   "cell_type": "code",
   "execution_count": null,
   "metadata": {},
   "outputs": [],
   "source": []
  },
  {
   "cell_type": "code",
   "execution_count": null,
   "metadata": {},
   "outputs": [],
   "source": []
  }
 ],
 "metadata": {
  "kernelspec": {
   "display_name": "Python 3",
   "language": "python",
   "name": "python3"
  },
  "language_info": {
   "codemirror_mode": {
    "name": "ipython",
    "version": 3
   },
   "file_extension": ".py",
   "mimetype": "text/x-python",
   "name": "python",
   "nbconvert_exporter": "python",
   "pygments_lexer": "ipython3",
   "version": "3.8.3"
  }
 },
 "nbformat": 4,
 "nbformat_minor": 4
}
